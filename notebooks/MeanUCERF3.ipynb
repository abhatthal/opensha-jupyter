{
 "cells": [
  {
   "cell_type": "code",
   "execution_count": 1,
   "id": "0302a798-c6ed-4cf6-98b4-4b19538d0ff2",
   "metadata": {},
   "outputs": [],
   "source": [
    "import java.io.File;\n",
    "import java.util.concurrent.CompletableFuture;\n",
    "\n",
    "import org.opensha.commons.util.ExceptionUtils;\n",
    "import org.opensha.sha.earthquake.faultSysSolution.FaultSystemSolution;\n",
    "\n",
    "import scratch.UCERF3.erf.mean.MeanUCERF3;"
   ]
  },
  {
   "cell_type": "code",
   "execution_count": 4,
   "id": "ddc0ed20-e76d-41bd-ab68-f2c15911465f",
   "metadata": {},
   "outputs": [
    {
     "name": "stdout",
     "output_type": "stream",
     "text": [
      "org.scec.getfile.GetFile.lambda$updateFile$3: File \"mean_ucerf3_sol\" is already up to date.\n",
      "Rupture Set:\tMapped available module with type: org.opensha.sha.earthquake.faultSysSolution.modules.SectAreas$Default\n",
      "Rupture Set:\tMapped available module with type: org.opensha.sha.earthquake.faultSysSolution.modules.SectAreas\n",
      "Rupture Set:\tMapped available module with type: org.opensha.sha.earthquake.faultSysSolution.modules.SectSlipRates$Default\n",
      "Rupture Set:\tMapped available module with type: org.opensha.sha.earthquake.faultSysSolution.modules.SectSlipRates\n",
      "Rupture Set:\tMapped available module with type: org.opensha.sha.earthquake.faultSysSolution.modules.SlipAlongRuptureModel\n",
      "Rupture Set:\tMapped module type 'org.opensha.sha.earthquake.faultSysSolution.modules.InfoModule' to: Info\n",
      "Solution:\tMapped module type 'org.opensha.sha.earthquake.faultSysSolution.modules.BuildInfoModule' to: OpenSHA Build Information\n",
      "Solution:\tMapped module type 'org.opensha.sha.earthquake.faultSysSolution.modules.RupMFDsModule' to: Rupture MFDs\n",
      "Avoided GriddedRegion XML deserialization issue due to new location, loading GeoJSON instead\n",
      "Solution:\tMapped module type 'scratch.UCERF3.griddedSeismicity.GridSourceFileReader' to: UCERF3 Grid Source Provider\n",
      "Solution:\tMapped module type 'scratch.UCERF3.griddedSeismicity.AbstractGridSourceProvider' to: UCERF3 Grid Source Provider\n",
      "Solution:\tMapped module type 'org.opensha.sha.earthquake.faultSysSolution.modules.MFDGridSourceProvider$Abstract' to: UCERF3 Grid Source Provider\n",
      "Solution:\tMapped module type 'org.opensha.sha.earthquake.faultSysSolution.modules.MFDGridSourceProvider' to: UCERF3 Grid Source Provider\n",
      "Solution:\tMapped module type 'org.opensha.sha.earthquake.faultSysSolution.modules.GridSourceProvider' to: UCERF3 Grid Source Provider\n",
      "MeanUCERF3 store dir: /home/scecuser/.opensha/ucerf3_erf\n"
     ]
    },
    {
     "name": "stderr",
     "output_type": "stream",
     "text": [
      "WARNING: this is a legacy fault sytem solution, that file format is deprecated. Will attempt to load it using the legacy file loader. See https://opensha.org/File-Formats for more information.\n"
     ]
    }
   ],
   "source": [
    "MeanUCERF3.checkDownload(new File(MeanUCERF3.getStoreDir(),\n",
    "        \"mean_ucerf3_sol.zip\"), false).thenAccept(solFile -> {\n",
    "    FaultSystemSolution sol;\n",
    "    try {\n",
    "        sol = FaultSystemSolution.load(solFile);\n",
    "    } catch (Exception e) {\n",
    "        throw ExceptionUtils.asRuntimeException(e);\n",
    "    }\n",
    "    MeanUCERF3 muc3 = new MeanUCERF3(sol);\n",
    "}).join();\n"
   ]
  },
  {
   "cell_type": "code",
   "execution_count": null,
   "id": "bf3ce03d-a878-4336-9946-9f022f53b1b9",
   "metadata": {},
   "outputs": [],
   "source": []
  }
 ],
 "metadata": {
  "kernelspec": {
   "display_name": "Ganymede 2.1.2 (Java 21)",
   "language": "java",
   "name": "ganymede-2.1.2-java-21"
  },
  "language_info": {
   "file_extension": ".java",
   "mimetype": "text/x-java",
   "name": "java",
   "version": "11"
  }
 },
 "nbformat": 4,
 "nbformat_minor": 5
}
